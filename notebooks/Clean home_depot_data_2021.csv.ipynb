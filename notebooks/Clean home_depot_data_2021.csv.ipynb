{
 "cells": [
  {
   "cell_type": "code",
   "execution_count": 1,
   "metadata": {},
   "outputs": [],
   "source": [
    "import pandas as pd"
   ]
  },
  {
   "cell_type": "code",
   "execution_count": 19,
   "metadata": {},
   "outputs": [
    {
     "data": {
      "text/plain": [
       "url               0\n",
       "name              0\n",
       "description       0\n",
       "brand             0\n",
       "price             0\n",
       "currency          0\n",
       "breadcrumbs       0\n",
       "overview          0\n",
       "specifications    0\n",
       "dtype: int64"
      ]
     },
     "execution_count": 19,
     "metadata": {},
     "output_type": "execute_result"
    }
   ],
   "source": [
    "df = pd.read_csv('home_depot_data.csv')\n",
    "df = df.reset_index(drop=True)\n",
    "df = df.drop(['crawled_at', 'source', 'images', 'sku_id', 'color', 'avg_rating', 'total_reviews', 'in_stock'], axis=1)\n",
    "\n",
    "\n",
    "df.isnull().sum()"
   ]
  },
  {
   "cell_type": "code",
   "execution_count": 20,
   "metadata": {},
   "outputs": [
    {
     "data": {
      "text/html": [
       "<div>\n",
       "<style scoped>\n",
       "    .dataframe tbody tr th:only-of-type {\n",
       "        vertical-align: middle;\n",
       "    }\n",
       "\n",
       "    .dataframe tbody tr th {\n",
       "        vertical-align: top;\n",
       "    }\n",
       "\n",
       "    .dataframe thead th {\n",
       "        text-align: right;\n",
       "    }\n",
       "</style>\n",
       "<table border=\"1\" class=\"dataframe\">\n",
       "  <thead>\n",
       "    <tr style=\"text-align: right;\">\n",
       "      <th></th>\n",
       "      <th>url</th>\n",
       "      <th>name</th>\n",
       "      <th>description</th>\n",
       "      <th>brand</th>\n",
       "      <th>price</th>\n",
       "      <th>currency</th>\n",
       "      <th>breadcrumbs</th>\n",
       "      <th>overview</th>\n",
       "      <th>specifications</th>\n",
       "    </tr>\n",
       "  </thead>\n",
       "  <tbody>\n",
       "    <tr>\n",
       "      <th>0</th>\n",
       "      <td>https://www.homedepot.com/p/31-in-x-17-in-Stai...</td>\n",
       "      <td>31 in. x 17 in. Stainless Steel Kitchen Sink B...</td>\n",
       "      <td>Extend the life of your sink with a bottom gri...</td>\n",
       "      <td>Unbranded</td>\n",
       "      <td>59.00</td>\n",
       "      <td>USD</td>\n",
       "      <td>Kitchen, Kitchen Storage &amp; Organization, Kitch...</td>\n",
       "      <td>Premium grade T-304 stainless steel, Protects ...</td>\n",
       "      <td>[{'Kitchen Product Type': 'Sink Grids'}, {'Int...</td>\n",
       "    </tr>\n",
       "    <tr>\n",
       "      <th>1</th>\n",
       "      <td>https://www.homedepot.com/p/Quoizel-Queenship-...</td>\n",
       "      <td>Queenship 2-Light Polished Nickel Wall Sconce</td>\n",
       "      <td>The Queenship is absolutely dripping with glam...</td>\n",
       "      <td>Quoizel</td>\n",
       "      <td>232.49</td>\n",
       "      <td>USD</td>\n",
       "      <td>Lighting, Wall Sconces</td>\n",
       "      <td>Durable steel construction is built to last an...</td>\n",
       "      <td>[{'Fixture Color/Finish': 'Polished Nickel'}, ...</td>\n",
       "    </tr>\n",
       "    <tr>\n",
       "      <th>2</th>\n",
       "      <td>https://www.homedepot.com/p/Eagle-Tool-US-1-2-...</td>\n",
       "      <td>1/2 in. x 18 in. Flexible Carbide Tip Cable In...</td>\n",
       "      <td>Eagle Tools has the Best in Flex. This America...</td>\n",
       "      <td>Eagle Tool US</td>\n",
       "      <td>24.99</td>\n",
       "      <td>USD</td>\n",
       "      <td>Tools, Power Tool Accessories, Drill Bits, Spe...</td>\n",
       "      <td>Made in USA, Carbide tipped, Wire fishing acco...</td>\n",
       "      <td>[{'Self-Feeding': 'No'}, {'Drill Bit Type(s) I...</td>\n",
       "    </tr>\n",
       "    <tr>\n",
       "      <th>3</th>\n",
       "      <td>https://www.homedepot.com/p/Safavieh-Kilim-Rus...</td>\n",
       "      <td>Kilim Rust 5 ft. x 8 ft. Area Rug</td>\n",
       "      <td>Flat-weaving traditions of nomads from the Mid...</td>\n",
       "      <td>Safavieh</td>\n",
       "      <td>156.33</td>\n",
       "      <td>USD</td>\n",
       "      <td>Flooring, Rugs, Area Rugs</td>\n",
       "      <td>100% Wool, No backing, rug pad (sold separatel...</td>\n",
       "      <td>[{'Features': 'No Additional Features'}, {'Sty...</td>\n",
       "    </tr>\n",
       "    <tr>\n",
       "      <th>4</th>\n",
       "      <td>https://www.homedepot.com/p/Unique-Loom-Salzbu...</td>\n",
       "      <td>Salzburg Itzling Light Blue 4' 0 x 4' 0 Square...</td>\n",
       "      <td>Soft, muted colors like blue, gray and cream. ...</td>\n",
       "      <td>Unique Loom</td>\n",
       "      <td>34.69</td>\n",
       "      <td>USD</td>\n",
       "      <td>Flooring, Rugs, Area Rugs</td>\n",
       "      <td>Pile material is Polypropylene, Action back re...</td>\n",
       "      <td>[{'Features': 'Stain Resistant'}, {'Style': 'C...</td>\n",
       "    </tr>\n",
       "  </tbody>\n",
       "</table>\n",
       "</div>"
      ],
      "text/plain": [
       "                                                 url  \\\n",
       "0  https://www.homedepot.com/p/31-in-x-17-in-Stai...   \n",
       "1  https://www.homedepot.com/p/Quoizel-Queenship-...   \n",
       "2  https://www.homedepot.com/p/Eagle-Tool-US-1-2-...   \n",
       "3  https://www.homedepot.com/p/Safavieh-Kilim-Rus...   \n",
       "4  https://www.homedepot.com/p/Unique-Loom-Salzbu...   \n",
       "\n",
       "                                                name  \\\n",
       "0  31 in. x 17 in. Stainless Steel Kitchen Sink B...   \n",
       "1      Queenship 2-Light Polished Nickel Wall Sconce   \n",
       "2  1/2 in. x 18 in. Flexible Carbide Tip Cable In...   \n",
       "3                  Kilim Rust 5 ft. x 8 ft. Area Rug   \n",
       "4  Salzburg Itzling Light Blue 4' 0 x 4' 0 Square...   \n",
       "\n",
       "                                         description          brand   price  \\\n",
       "0  Extend the life of your sink with a bottom gri...      Unbranded   59.00   \n",
       "1  The Queenship is absolutely dripping with glam...        Quoizel  232.49   \n",
       "2  Eagle Tools has the Best in Flex. This America...  Eagle Tool US   24.99   \n",
       "3  Flat-weaving traditions of nomads from the Mid...       Safavieh  156.33   \n",
       "4  Soft, muted colors like blue, gray and cream. ...    Unique Loom   34.69   \n",
       "\n",
       "  currency                                        breadcrumbs  \\\n",
       "0      USD  Kitchen, Kitchen Storage & Organization, Kitch...   \n",
       "1      USD                             Lighting, Wall Sconces   \n",
       "2      USD  Tools, Power Tool Accessories, Drill Bits, Spe...   \n",
       "3      USD                          Flooring, Rugs, Area Rugs   \n",
       "4      USD                          Flooring, Rugs, Area Rugs   \n",
       "\n",
       "                                            overview  \\\n",
       "0  Premium grade T-304 stainless steel, Protects ...   \n",
       "1  Durable steel construction is built to last an...   \n",
       "2  Made in USA, Carbide tipped, Wire fishing acco...   \n",
       "3  100% Wool, No backing, rug pad (sold separatel...   \n",
       "4  Pile material is Polypropylene, Action back re...   \n",
       "\n",
       "                                      specifications  \n",
       "0  [{'Kitchen Product Type': 'Sink Grids'}, {'Int...  \n",
       "1  [{'Fixture Color/Finish': 'Polished Nickel'}, ...  \n",
       "2  [{'Self-Feeding': 'No'}, {'Drill Bit Type(s) I...  \n",
       "3  [{'Features': 'No Additional Features'}, {'Sty...  \n",
       "4  [{'Features': 'Stain Resistant'}, {'Style': 'C...  "
      ]
     },
     "execution_count": 20,
     "metadata": {},
     "output_type": "execute_result"
    }
   ],
   "source": [
    "df = df.dropna()\n",
    "df.head()"
   ]
  },
  {
   "cell_type": "code",
   "execution_count": 21,
   "metadata": {},
   "outputs": [],
   "source": [
    "df.to_csv('home_depot_data.csv', index=False)"
   ]
  }
 ],
 "metadata": {
  "kernelspec": {
   "display_name": "Python 3",
   "language": "python",
   "name": "python3"
  },
  "language_info": {
   "codemirror_mode": {
    "name": "ipython",
    "version": 3
   },
   "file_extension": ".py",
   "mimetype": "text/x-python",
   "name": "python",
   "nbconvert_exporter": "python",
   "pygments_lexer": "ipython3",
   "version": "3.8.3"
  }
 },
 "nbformat": 4,
 "nbformat_minor": 4
}
