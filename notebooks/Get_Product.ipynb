{
 "cells": [
  {
   "cell_type": "markdown",
   "metadata": {},
   "source": [
    "# Now that we've saved each URL from the sitemap, go to each sitemap URL and look at products details page for `max_products_per_page` products"
   ]
  },
  {
   "cell_type": "code",
   "execution_count": 1,
   "metadata": {},
   "outputs": [
    {
     "name": "stdout",
     "output_type": "stream",
     "text": [
      "Requirement already satisfied: chromedriver-py in c:\\users\\sahan\\anaconda3\\lib\\site-packages (114.0.5735.90)\n",
      "Note: you may need to restart the kernel to use updated packages.\n"
     ]
    }
   ],
   "source": [
    "pip install chromedriver-py"
   ]
  },
  {
   "cell_type": "code",
   "execution_count": 2,
   "metadata": {},
   "outputs": [
    {
     "name": "stdout",
     "output_type": "stream",
     "text": [
      "Requirement already satisfied: selenium in c:\\users\\sahan\\anaconda3\\lib\\site-packages (4.10.0)\n",
      "Requirement already satisfied: trio-websocket~=0.9 in c:\\users\\sahan\\anaconda3\\lib\\site-packages (from selenium) (0.10.3)\n",
      "Requirement already satisfied: trio~=0.17 in c:\\users\\sahan\\anaconda3\\lib\\site-packages (from selenium) (0.22.0)\n",
      "Requirement already satisfied: urllib3[socks]<3,>=1.26 in c:\\users\\sahan\\anaconda3\\lib\\site-packages (from selenium) (2.0.3)\n",
      "Requirement already satisfied: certifi>=2021.10.8 in c:\\users\\sahan\\anaconda3\\lib\\site-packages (from selenium) (2023.5.7)\n",
      "Requirement already satisfied: exceptiongroup in c:\\users\\sahan\\anaconda3\\lib\\site-packages (from trio-websocket~=0.9->selenium) (1.1.1)\n",
      "Requirement already satisfied: wsproto>=0.14 in c:\\users\\sahan\\anaconda3\\lib\\site-packages (from trio-websocket~=0.9->selenium) (1.2.0)\n",
      "Requirement already satisfied: idna in c:\\users\\sahan\\anaconda3\\lib\\site-packages (from trio~=0.17->selenium) (2.10)\n",
      "Requirement already satisfied: async-generator>=1.9 in c:\\users\\sahan\\anaconda3\\lib\\site-packages (from trio~=0.17->selenium) (1.10)\n",
      "Requirement already satisfied: attrs>=19.2.0 in c:\\users\\sahan\\anaconda3\\lib\\site-packages (from trio~=0.17->selenium) (19.3.0)\n",
      "Requirement already satisfied: outcome in c:\\users\\sahan\\anaconda3\\lib\\site-packages (from trio~=0.17->selenium) (1.2.0)\n",
      "Requirement already satisfied: sniffio in c:\\users\\sahan\\anaconda3\\lib\\site-packages (from trio~=0.17->selenium) (1.3.0)\n",
      "Requirement already satisfied: sortedcontainers in c:\\users\\sahan\\anaconda3\\lib\\site-packages (from trio~=0.17->selenium) (2.2.2)\n",
      "Requirement already satisfied: cffi>=1.14; os_name == \"nt\" and implementation_name != \"pypy\" in c:\\users\\sahan\\anaconda3\\lib\\site-packages (from trio~=0.17->selenium) (1.14.0)\n",
      "Requirement already satisfied: pysocks!=1.5.7,<2.0,>=1.5.6; extra == \"socks\" in c:\\users\\sahan\\anaconda3\\lib\\site-packages (from urllib3[socks]<3,>=1.26->selenium) (1.7.1)\n",
      "Requirement already satisfied: h11<1,>=0.9.0 in c:\\users\\sahan\\anaconda3\\lib\\site-packages (from wsproto>=0.14->trio-websocket~=0.9->selenium) (0.14.0)\n",
      "Requirement already satisfied: pycparser in c:\\users\\sahan\\anaconda3\\lib\\site-packages (from cffi>=1.14; os_name == \"nt\" and implementation_name != \"pypy\"->trio~=0.17->selenium) (2.20)\n",
      "Note: you may need to restart the kernel to use updated packages.\n"
     ]
    }
   ],
   "source": [
    "pip install selenium"
   ]
  },
  {
   "cell_type": "code",
   "execution_count": 3,
   "metadata": {},
   "outputs": [],
   "source": [
    "from selenium import webdriver\n",
    "from selenium.webdriver.chrome.options import Options\n",
    "from selenium.webdriver.chrome.service import Service\n",
    "from chromedriver_py import binary_path # this will get you the path variable\n",
    "from selenium.webdriver.common.by import By\n",
    "import pandas as pd"
   ]
  },
  {
   "cell_type": "code",
   "execution_count": 4,
   "metadata": {},
   "outputs": [],
   "source": [
    "sitemap_urls = pd.read_csv('sitemap_urls')\n",
    "all_product_links = set()\n",
    "\n",
    "# appliances will not show up bc of different HTML structure\n",
    "errors = set()\n",
    "MAX_PRODUCTS_PER_PAGE = 12\n",
    "\n",
    "\n",
    "# Selenium configs\n",
    "options = Options()\n",
    "options.add_argument('--headless=new')\n",
    "options.add_argument('--window-size=1920,1200')\n",
    "service_object = Service(binary_path)\n",
    "driver = webdriver.Chrome(options=options, service=service_object)"
   ]
  },
  {
   "cell_type": "code",
   "execution_count": 5,
   "metadata": {},
   "outputs": [
    {
     "name": "stdout",
     "output_type": "stream",
     "text": [
      "Progress: 0.0%\n",
      "https://www.homedepot.com/b/Appliances-Dishwashers/N-5yc1vZc3po\n",
      "https://www.homedepot.com/b/Appliances-Ranges/N-5yc1vZc3o9\n",
      "https://www.homedepot.com/b/Appliances-Range-Hoods/N-5yc1vZc3nk\n",
      "https://www.homedepot.com/b/Appliances-Freezers-Ice-Makers-Ice-Makers/N-5yc1vZc3pw\n",
      "https://www.homedepot.com/b/Appliances-Mini-Refrigerators/N-5yc1vZc4mo\n",
      "https://www.homedepot.com/b/Appliances-Refrigerators/N-5yc1vZc3pi\n",
      "https://www.homedepot.com/b/Appliances-Washers-Dryers/N-5yc1vZc3ol\n",
      "https://www.homedepot.com/b/Appliances-Wall-Ovens/N-5yc1vZc3nq\n",
      "https://www.homedepot.com/b/Automotive-Car-Cleaning-Supplies/Car-Cleaning-Kit/N-5yc1vZc8neZ1z1uryc\n",
      "https://www.homedepot.com/b/Automotive-Truck-Accessories-Tonneau-Cover/N-5yc1vZ2fkok9f\n",
      "https://www.homedepot.com/b/Bath-Bathroom-Accessories/N-5yc1vZcfvt\n",
      "https://www.homedepot.com/b/Bath-Bathroom-Faucets/N-5yc1vZbreo\n",
      "https://www.homedepot.com/b/Bath-Bathroom-Sinks/N-5yc1vZbzb0\n",
      "https://www.homedepot.com/b/Bath-Bathroom-Vanities/N-5yc1vZcfv3\n",
      "https://www.homedepot.com/b/Bath-Bathtubs/N-5yc1vZbzb7\n",
      "https://www.homedepot.com/b/Bath-Showers/N-5yc1vZbzcd\n",
      "https://www.homedepot.com/b/Building-Materials-Ceilings/N-5yc1vZc58i\n",
      "https://www.homedepot.com/b/Building-Materials-Drywall/N-5yc1vZar3d\n",
      "https://www.homedepot.com/b/Building-Materials-Insulation/N-5yc1vZasbs\n",
      "https://www.homedepot.com/b/Building-Materials-Ladders/N-5yc1vZaqnp\n",
      "https://www.homedepot.com/b/Building-Materials-Moulding-Millwork/N-5yc1vZaq4y\n",
      "https://www.homedepot.com/b/Doors-Windows-Interior-Doors/N-5yc1vZc5io\n",
      "https://www.homedepot.com/b/Doors-Windows-Windows/N-5yc1vZaq1w\n",
      "https://www.homedepot.com/b/Electrical-Wall-Plates-Jacks/N-5yc1vZbm8m\n",
      "https://www.homedepot.com/b/Electrical-Electronics/N-5yc1vZc958\n",
      "Progress: 0.22026431718061673%\n",
      "https://www.homedepot.com/b/Flooring-Carpet/N-5yc1vZarl0\n",
      "https://www.homedepot.com/b/Flooring-Laminate-Flooring/N-5yc1vZare1\n",
      "https://www.homedepot.com/b/Flooring-Tile/N-5yc1vZar0y\n",
      "https://www.homedepot.com/b/Flooring-Vinyl-Flooring-Resilient-Flooring/N-5yc1vZapwr\n",
      "https://www.homedepot.com/b/Flooring-Wood-Flooring/N-5yc1vZaq8x\n",
      "https://www.homedepot.com/b/Hardware-Cabinet-Hardware/N-5yc1vZc29z\n",
      "https://www.homedepot.com/b/Hardware-Door-Hardware/N-5yc1vZc213\n",
      "https://www.homedepot.com/b/Hardware-Fasteners/N-5yc1vZc255\n",
      "https://www.homedepot.com/b/Hardware-Mailboxes-Posts-Addresses/N-5yc1vZc8f5\n",
      "https://www.homedepot.com/b/Heating-Venting-Cooling-Air-Conditioners-Coolers/N-5yc1vZc4me\n",
      "https://www.homedepot.com/b/Heating-Venting-Cooling-Air-Filters-Furnace-Filters-and-Air-Conditioner-Filters/N-5yc1vZc4kw\n",
      "https://www.homedepot.com/b/Heating-Venting-Cooling-Fireplaces/N-5yc1vZc4lb\n",
      "https://www.homedepot.com/b/Heating-Venting-Cooling-Heaters/N-5yc1vZc4l7\n",
      "https://www.homedepot.com/b/Heating-Venting-Cooling-Thermostats/N-5yc1vZc4lf\n",
      "https://www.homedepot.com/b/Heating-Venting-Cooling-Ventilation/N-5yc1vZc4mr\n",
      "https://www.homedepot.com/b/Plumbing-Water-Heaters/N-5yc1vZbqly\n",
      "https://www.homedepot.com/b/Holiday-Decorations-Christmas-Decorations/N-5yc1vZcgxo\n",
      "https://www.homedepot.com/b/Holiday-Decorations-Christmas-Decorations-Christmas-Lights/N-5yc1vZc3tb\n",
      "https://www.homedepot.com/b/Holiday-Decorations-Christmas-Decorations-Christmas-Trees/N-5yc1vZc3rz\n",
      "https://www.homedepot.com/b/Holiday-Decorations-Halloween-Decorations/N-5yc1vZc2ve\n",
      "https://www.homedepot.com/b/Holiday-Decorations-Christmas-Decorations-Outdoor-Christmas-Decorations/N-5yc1vZc3sq\n",
      "https://www.homedepot.com/b/Kitchen/N-5yc1vZar4i\n",
      "https://www.homedepot.com/b/Kitchen-Kitchen-Cabinets/N-5yc1vZas87\n",
      "https://www.homedepot.com/b/Kitchen-Countertops/N-5yc1vZbmf2\n",
      "https://www.homedepot.com/b/Kitchen-Kitchen-Faucets/N-5yc1vZar0k\n",
      "https://www.homedepot.com/b/Kitchen-Kitchen-Sinks/N-5yc1vZarsa\n",
      "https://www.homedepot.com/b/Kitchen-Kitchen-Storage-Organization/N-5yc1vZapu6\n",
      "https://www.homedepot.com/b/Lighting-Ceiling-Fans/N-5yc1vZbvlq\n",
      "https://www.homedepot.com/b/Lighting-Chandeliers/N-5yc1vZc7o0\n",
      "https://www.homedepot.com/b/Lighting-Lamps/N-5yc1vZc7pd\n",
      "https://www.homedepot.com/b/Lighting-Light-Bulbs/N-5yc1vZbmbu\n",
      "https://www.homedepot.com/b/Lighting-Outdoor-Lighting/N-5yc1vZc7qv\n",
      "https://www.homedepot.com/b/Lighting-Recessed-Lighting/N-5yc1vZc7ni\n",
      "Progress: 0.44052863436123346%\n",
      "https://www.homedepot.com/b/Lumber-Composites-Plywood-Oriented-Strand-Board-OSB/N-5yc1vZbqpq\n",
      "https://www.homedepot.com/b/Lumber-Composites-Fencing/Privacy/N-5yc1vZbrk7Z1z0n4ws\n",
      "https://www.homedepot.com/b/Lumber-Composites-Fencing/Split-Rail/N-5yc1vZbrk7Z1z0n4wq\n",
      "https://www.homedepot.com/b/Outdoors-Garden-Center-Garden-Tools/N-5yc1vZbx6x\n",
      "https://www.homedepot.com/b/Outdoors-Garden-Center-Indoor-Plants/N-5yc1vZc8rn\n",
      "https://www.homedepot.com/b/Outdoors-Garden-Center-Planters/N-5yc1vZbx81\n",
      "https://www.homedepot.com/b/Outdoors-Garden-Center-Outdoor-Plants/N-5yc1vZc8rg\n",
      "https://www.homedepot.com/b/Outdoors-Outdoor-Power-Equipment/N-5yc1vZbx5c\n",
      "https://www.homedepot.com/b/Outdoors-Outdoor-Power-Equipment-Chainsaws/N-5yc1vZbxam\n",
      "https://www.homedepot.com/b/Outdoors-Outdoor-Power-Equipment-Generators/N-5yc1vZbx8l\n",
      "https://www.homedepot.com/b/Outdoors-Outdoor-Power-Equipment-Pressure-Washers/N-5yc1vZbxbe\n",
      "https://www.homedepot.com/b/Outdoors-Outdoor-Power-Equipment-Riding-Lawn-Mowers/N-5yc1vZc5ax\n",
      "https://www.homedepot.com/b/Outdoors-Outdoor-Power-Equipment-Trimmers/N-5yc1vZbxbh\n",
      "https://www.homedepot.com/b/Outdoors-Outdoor-Cooking-Grills/N-5yc1vZbxaz\n",
      "https://www.homedepot.com/b/Outdoors-Patio-Furniture/N-5yc1vZbx4o\n",
      "https://www.homedepot.com/b/Outdoors-Pools/N-5yc1vZcfyr\n",
      "https://www.homedepot.com/b/Paint-Exterior-Paint/N-5yc1vZcg5u\n",
      "https://www.homedepot.com/b/Paint-Spray-Paint/N-5yc1vZapz5\n",
      "https://www.homedepot.com/b/Paint-Paint-Tools-Supplies-Tarps-Drop-Cloths-Plastic-Sheeting/N-5yc1vZc5iu\n",
      "https://www.homedepot.com/b/Home-Decorators-Collection/N-5yc1vZ4vr\n",
      "https://www.homedepot.com/b/Outdoors-Garden-Center-Pest-Control/N-5yc1vZbx4w\n",
      "https://www.homedepot.com/b/Playground-Sets/N-5yc1vZcjcd\n",
      "https://www.homedepot.com/b/Playground-Sets-Dog-Park-Equipment/N-5yc1vZc5pj\n",
      "https://www.homedepot.com/b/Playground-Equipment-Commercial-Playground-Equipment-Picnic-Tables/N-5yc1vZc5pr\n",
      "https://www.homedepot.com/b/Plumbing/N-5yc1vZbqew\n",
      "https://www.homedepot.com/b/Plumbing-Pipe-Fittings/N-5yc1vZbqpf\n",
      "https://www.homedepot.com/b/Plumbing-Plumbing-Parts/N-5yc1vZbqkp\n",
      "https://www.homedepot.com/b/Plumbing-Plumbing-Tools/N-5yc1vZbqlq\n",
      "https://www.homedepot.com/b/Plumbing-Water-Heaters/N-5yc1vZbqly\n",
      "https://www.homedepot.com/b/Plumbing-Water-Pumps/N-5yc1vZbqlb\n",
      "https://www.homedepot.com/b/Black-Friday/N-5yc1vZ1z1bzvd\n",
      "https://www.homedepot.com/b/Fathers-Day/N-5yc1vZ1z1como\n",
      "https://www.homedepot.com/b/Fourth-of-July/N-5yc1vZ1z1u742\n",
      "https://www.homedepot.com/b/Labor-Day/N-5yc1vZ1z1com8\n",
      "https://www.homedepot.com/b/Memorial-Day/N-5yc1vZ1z1cokk\n",
      "https://www.homedepot.com/b/Commercial-Electric/N-5yc1vZdn\n",
      "https://www.homedepot.com/b/Everbilt/N-5yc1vZ402\n",
      "https://www.homedepot.com/b/Glacier-Bay/N-5yc1vZn7\n",
      "https://www.homedepot.com/b/Hampton-Bay/N-5yc1vZp4\n",
      "https://www.homedepot.com/b/Home-Decorators-Collection/N-5yc1vZ4vr\n",
      "https://www.homedepot.com/b/Husky/N-5yc1vZrd\n",
      "https://www.homedepot.com/b/Flooring/Lifeproof/N-5yc1vZaq7rZnv7\n",
      "https://www.homedepot.com/b/Home-Decor/StyleWell/N-5yc1vZas6pZn4x\n",
      "https://www.homedepot.com/b/The-Company-Store/N-5yc1vZms7\n",
      "https://www.homedepot.com/b/Flooring/TrafficMaster/N-5yc1vZaq7rZ5bx\n",
      "Progress: 0.6607929515418502%\n",
      "https://www.homedepot.com/b/Vigoro/N-5yc1vZ1kt\n",
      "https://www.homedepot.com/b/Storage-Organization-Closet-Organizers/N-5yc1vZc1x1\n",
      "https://www.homedepot.com/b/Storage-Organization-Garage-Storage/N-5yc1vZarmi\n",
      "https://www.homedepot.com/b/Storage-Organization-Shelving/N-5yc1vZc89k\n",
      "https://www.homedepot.com/b/Storage-Organization-Toy-Storage/N-5yc1vZcfzg\n",
      "https://www.homedepot.com/b/Tools-Woodworking-Tools/N-5yc1vZc2gv\n",
      "https://www.homedepot.com/b/Tools-Power-Tools-Drills/N-5yc1vZc27f\n",
      "https://www.homedepot.com/b/Tools-Power-Tools/N-5yc1vZc298\n",
      "https://www.homedepot.com/b/Tools-Tool-Storage/N-5yc1vZc22e\n",
      "https://www.homedepot.com/b/Window-Treatments-Blinds/N-5yc1vZch24\n",
      "https://www.homedepot.com/b/Window-Treatments-Plantation-Shutters/N-5yc1vZar29\n",
      "https://www.homedepot.com/b/Window-Treatments-Shades/N-5yc1vZch27\n",
      "https://www.homedepot.com/b/Home-Decor/N-5yc1vZas6p\n"
     ]
    },
    {
     "name": "stdout",
     "output_type": "stream",
     "text": [
      "https://www.homedepot.com/b/Furniture/N-5yc1vZc7pc\n",
      "https://www.homedepot.com/b/Furniture-Bedroom-Furniture-Mattresses/N-5yc1vZc7oe\n",
      "Progress: 0.8810572687224669%\n",
      "https://www.homedepot.com/b/Home-Decor-Wall-Decor/N-5yc1vZar8x\n",
      "https://www.homedepot.com/b/Home-Decor-Wall-Decor-Wall-Art/N-5yc1vZbbzh\n",
      "https://www.homedepot.com/b/Home-Decor-Wallpaper/N-5yc1vZbc0q\n",
      "https://www.homedepot.com/b/Home-Decor-Home-Accents/N-5yc1vZar58\n",
      "https://www.homedepot.com/b/Home-Decor-Bedding-Bath/N-5yc1vZci04\n",
      "https://www.homedepot.com/b/Home-Decor-Bedding-Bath-Mattress-Toppers/N-5yc1vZc1ku\n",
      "https://www.homedepot.com/b/Home-Decor-Bedding-Bath-Towels/N-5yc1vZcfva\n",
      "https://www.homedepot.com/b/Appliances-Small-Kitchen-Appliances/N-5yc1vZbv48\n",
      "https://www.homedepot.com/b/Appliances-Small-Kitchen-Appliances-Blenders/N-5yc1vZbv6y\n",
      "https://www.homedepot.com/b/Appliances-Small-Kitchen-Appliances-Coffee-Espresso/N-5yc1vZbv2f\n",
      "https://www.homedepot.com/b/Appliances-Small-Kitchen-Appliances-Cookers/N-5yc1vZ1z18gdp\n",
      "https://www.homedepot.com/b/Kitchen-Tableware-Bar/N-5yc1vZc4c1\n"
     ]
    }
   ],
   "source": [
    "# finds links that will lead to product detail page\n",
    "xpath_products_page = \"//div[contains(@class, 'browse-search__pod')]/div/a\"\n",
    "\n",
    "sitemap_length = sitemap_urls.shape[0] \n",
    "\n",
    "count = 0\n",
    "for i, row in sitemap_urls.iterrows():\n",
    "    if count % 100 == 0:\n",
    "        print('Progress: {}%'.format(count/sitemap_length))\n",
    "    \n",
    "    count += 1\n",
    "        \n",
    "    url = row['url']\n",
    "    driver.get(url)\n",
    "    \n",
    "    # wait for page to load\n",
    "    product_link = driver.find_elements(By.XPATH, xpath_products_page)\n",
    "    \n",
    "    if product_link == []:\n",
    "        errors.add(url)\n",
    "        print(url)\n",
    "        \n",
    "    # ensure that if there are less products than MAX_PRODUCTS_PER_PAGE, no out of bounds error\n",
    "    for j in range(min(MAX_PRODUCTS_PER_PAGE, len(product_link))):\n",
    "        try:\n",
    "            all_product_links.add(product_link[j].get_attribute('href'))\n",
    "        except:\n",
    "            errors.add(url)\n",
    "            \n",
    "driver.quit()      \n",
    "        \n"
   ]
  },
  {
   "cell_type": "code",
   "execution_count": 6,
   "metadata": {},
   "outputs": [
    {
     "data": {
      "text/plain": [
       "3272"
      ]
     },
     "execution_count": 6,
     "metadata": {},
     "output_type": "execute_result"
    }
   ],
   "source": [
    "len(all_product_links)"
   ]
  },
  {
   "cell_type": "code",
   "execution_count": 12,
   "metadata": {},
   "outputs": [
    {
     "data": {
      "text/plain": [
       "178"
      ]
     },
     "execution_count": 12,
     "metadata": {},
     "output_type": "execute_result"
    }
   ],
   "source": [
    "len(errors)"
   ]
  },
  {
   "cell_type": "code",
   "execution_count": 8,
   "metadata": {},
   "outputs": [],
   "source": [
    "product_urls = pd.DataFrame(all_product_links, columns=['url'])\n",
    "product_urls.to_csv('product_urls', index=False)"
   ]
  },
  {
   "cell_type": "code",
   "execution_count": 11,
   "metadata": {},
   "outputs": [],
   "source": [
    "error_urls = pd.DataFrame(errors, columns=['url'])\n",
    "error_urls.to_csv('error_urls', index=False)"
   ]
  }
 ],
 "metadata": {
  "kernelspec": {
   "display_name": "Python 3",
   "language": "python",
   "name": "python3"
  },
  "language_info": {
   "codemirror_mode": {
    "name": "ipython",
    "version": 3
   },
   "file_extension": ".py",
   "mimetype": "text/x-python",
   "name": "python",
   "nbconvert_exporter": "python",
   "pygments_lexer": "ipython3",
   "version": "3.8.3"
  }
 },
 "nbformat": 4,
 "nbformat_minor": 4
}
